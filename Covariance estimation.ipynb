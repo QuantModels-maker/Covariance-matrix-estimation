{
 "cells": [
  {
   "cell_type": "markdown",
   "id": "1ecab0e2-6528-4f21-94c1-6de6c5b4eb98",
   "metadata": {},
   "source": [
    "## Notebook purpose\n",
    "\n",
    "The aim of that research is finding the way of estimating assets covariation<br>\n",
    "The question of estimating the covariance matrix arises for the following reason:<br>\n",
    "sometimes we need to now covariance between assets for efficient portfolio rebalancing or other goals,<br>\n",
    "but some covariance coefficients can be distorted if the length of data sample (N) is comparable to the number of assets (T).<br>\n",
    "\n",
    "Why? Because covariance matrix has about 0.5 * (N-1) * N params (where N is the number of assets). <br>\n",
    "If the N/T ratio is near to 1 or even 0.01, we will use number of the observations comparable to the number of params that we estimate.<br>\n",
    "That can lead to inadequate results. And in that step we need use some methods for matrix covariance matrix shrinkage.<br>\n",
    "\n",
    "Shrinkage is a synonym to the compression. We make the biggest covariance matrix eigenvalues less bigger, and the smallest more bigger<br>\n",
    "Eigenvalues correction will lead to the eigenvectors correction and will make ratios between them more balanced<br>\n",
    "There are a lot of ways to do that, and in this notebook you will learn about 3 different types of shrinkage, <br>\n",
    "compared to the base covariance matrix without any shrinkage. The inspiration and the math behiind them can be taken out of this article:<br>\n",
    "https://www.zora.uzh.ch/id/eprint/170824/1/econwp231.pdf\n",
    "\n",
    "In that notebook we will compare shrinkage methods in terms of proxy-volatility of portfolio at the each moment of testing<br>\n",
    "You can add returns prediction and use predicted covariance matrices and predicted returns for portfolio optimization,<br>\n",
    "that approach can be very powerfull.<br>"
   ]
  },
  {
   "cell_type": "code",
   "execution_count": 31,
   "id": "2b2c1525-5229-49d8-aee2-2b28451ee53b",
   "metadata": {},
   "outputs": [],
   "source": [
    "# Import necessary libraries\n",
    "import pandas as pd\n",
    "import numpy as np\n",
    "import optuna\n",
    "import matplotlib.pyplot as plt\n",
    "from sklearn.covariance import LedoitWolf\n",
    "import warnings"
   ]
  },
  {
   "cell_type": "code",
   "execution_count": 5,
   "id": "77c9e3b9-193c-432a-aab7-639bbd3aa723",
   "metadata": {},
   "outputs": [],
   "source": [
    "warnings.filterwarnings('ignore', category=pd.errors.SettingWithCopyWarning)\n",
    "warnings.filterwarnings('ignore', category=UserWarning)\n",
    "warnings.filterwarnings('ignore', category=FutureWarning)"
   ]
  },
  {
   "cell_type": "code",
   "execution_count": 6,
   "id": "1c8f3a51-5759-4154-bbd7-df1da30c1c80",
   "metadata": {},
   "outputs": [],
   "source": [
    "# List of assets \n",
    "DOW_JONES = [\n",
    "    'AMZN', 'AXP', 'AMGN', 'AAPL', 'BA', 'CAT', 'CSCO', 'CVX',\n",
    "    'GS', 'HD', 'GE', 'IBM', 'JNJ', 'KO', 'JPM', 'MCD', 'MMM',\n",
    "    'MRK', 'MSFT', 'NKE', 'PG', 'SHW', 'UNH', 'CRM', 'NVDA',\n",
    "    'VZ', 'V', 'WMT', 'DIS', 'T'\n",
    "]\n",
    "# excluded: TRV, changed to AT&T (ticker T)\n",
    "# changed HON (to GE)"
   ]
  },
  {
   "cell_type": "code",
   "execution_count": 7,
   "id": "586023d2-b4e5-4133-bfdc-59720ed20161",
   "metadata": {},
   "outputs": [],
   "source": [
    "# base version of covariance matrix shrinkage\n",
    "def compute_C_S(eps):\n",
    "    return np.corrcoef(eps)"
   ]
  },
  {
   "cell_type": "code",
   "execution_count": 8,
   "id": "0bcb07c6-80b2-4db4-a2c7-8d19a97ab9b9",
   "metadata": {},
   "outputs": [],
   "source": [
    "# L1 shrinkage (to the diagonal matrix)\n",
    "def compute_C_L1(eps):\n",
    "    lw = LedoitWolf().fit(eps.T)\n",
    "    C_shrunk = lw.covariance_\n",
    "    D = np.sqrt(np.diag(C_shrunk))\n",
    "    return C_shrunk / np.outer(D, D)"
   ]
  },
  {
   "cell_type": "code",
   "execution_count": 9,
   "id": "c93efcdb-f8d1-44d0-ba15-84f900c949d7",
   "metadata": {},
   "outputs": [],
   "source": [
    "# L2 shrinkage\n",
    "def compute_C_L2(eps):\n",
    "    C = np.corrcoef(eps)\n",
    "    N, T = eps.shape\n",
    "    off_diag_indices = np.triu_indices(N, k=1)\n",
    "    rho_bar = np.mean(C[off_diag_indices])\n",
    "    pi_hat = 0\n",
    "    \n",
    "    for i in range(N):\n",
    "        for j in range(i+1, N):\n",
    "            z_i = eps[i] / np.std(eps[i])\n",
    "            z_j = eps[i] / np.std(eps[i])\n",
    "            cov_ij = np.mean(z_i * z_j) - np.mean(z_i) * np.mean(z_j)\n",
    "            var_c_ij = np.mean((z_i * z_j - cov_ij)**2) / T\n",
    "            pi_hat += var_c_ij\n",
    "\n",
    "    gamma_hat = np.sum((C[off_diag_indices] - rho_bar)**2)\n",
    "    delta = pi_hat / (pi_hat + gamma_hat)\n",
    "    delta = min(max(delta, 0), 1)\n",
    "    F = np.ones((N, N)) * rho_bar\n",
    "    np.fill_diagonal(F, 1)\n",
    "    C_L2 = (1 - delta) * C + delta * F\n",
    "    \n",
    "    return C_L2"
   ]
  },
  {
   "cell_type": "code",
   "execution_count": 10,
   "id": "e2d7718c-ee99-44c0-a35e-45d0bac06d97",
   "metadata": {},
   "outputs": [],
   "source": [
    "# Non-linear shrinkage (the most powerfull version of regularization for big number of assets)\n",
    "def compute_C_NL(eps, c=None):\n",
    "    # C is a base covariance matrix\n",
    "    C = np.corrcoef(eps)\n",
    "    # N is a number of assets, T is a number of observations\n",
    "    N, T = eps.shape\n",
    "    c = N / T if c is None else c\n",
    "    eigenvalues, eigenvectors = np.linalg.eigh(C)\n",
    "    # Lambda coefficient from random matrix theory\n",
    "    lambda_minus = (1 - np.sqrt(c)) ** 2 # Lower bound\n",
    "    lambda_plus = (1 + np.sqrt(c)) ** 2 # Upper bound\n",
    "    shrunk_eigenvalues = np.zeros_like(eigenvalues)\n",
    "    for i, lam in enumerate(eigenvalues):\n",
    "        # Eigenvalues correction\n",
    "        if lambda_minus <= lam <= lambda_plus:\n",
    "            shrunk_eigenvalues[i] = 1.0\n",
    "        else:\n",
    "            shrunk_eigenvalues[i] = lam / (1 + c)\n",
    "    Lambda_shrunk = np.diag(shrunk_eigenvalues)       \n",
    "    C_NL = eigenvectors @ Lambda_shrunk @ eigenvectors.T\n",
    "    C_NL = (C_NL + C_NL.T) / 2\n",
    "    min_eig = np.min(np.linalg.eigvals(C_NL))\n",
    "    if min_eig < 0:\n",
    "        C_NL += np.eye(N) * (-min_eig + 1e-6)\n",
    "    return C_NL"
   ]
  },
  {
   "cell_type": "code",
   "execution_count": 11,
   "id": "0a7123e1-d133-4a07-8bb6-db52305c26b4",
   "metadata": {},
   "outputs": [],
   "source": [
    "# Objective function for garch-params calculation algorithm\n",
    "def garch_objective(trial, returns, ticker):\n",
    "    # Constraints are needed to avoid the algorithm getting stuck in a local minimum\n",
    "    omega = trial.suggest_float(f'omega_{ticker}', 1e-6, 1e-4, log=True) # Base volatility level (very small number)  \n",
    "    alpha = trial.suggest_float(f'alpha_{ticker}', 0.01, 0.2) # Previos residual influence\n",
    "    beta = trial.suggest_float(f'beta_{ticker}', 0.7, 0.99) # Previous volatility influence\n",
    "    # Sum of alpha and beta must not exceed 1 (that will lead to the exponential growth of params)\n",
    "    if alpha + beta >= 1:\n",
    "        return float('inf')\n",
    "    try:\n",
    "        sigma = compute_garch_volatility(returns, omega, alpha, beta)\n",
    "        mu = np.mean(returns) \n",
    "        residuals = returns - mu # Residuals are the degree of deviation from the average level of the retainers\n",
    "        log_likelihood = -0.5 * np.sum(np.log(sigma**2) + (residuals**2 / sigma**2)) # Log-likehood is a goal function for optimization\n",
    "        return -log_likelihood\n",
    "    except Exception as e:\n",
    "        print(f'Trial for {ticker} failed: {e}')\n",
    "        return float('inf')"
   ]
  },
  {
   "cell_type": "code",
   "execution_count": 12,
   "id": "389d0c88-0396-4422-9070-d4d91eac5182",
   "metadata": {},
   "outputs": [],
   "source": [
    "# Garch-based volatility calculation after getting needed params\n",
    "def compute_garch_volatility(returns, omega, alpha, beta):\n",
    "    n = len(returns)\n",
    "    sigma2 = np.zeros(n)\n",
    "    mu = np.mean(returns)\n",
    "    epsilon = returns - mu \n",
    "    sigma2[0] = np.var(returns)\n",
    "    for t in range(1, n):\n",
    "        sigma2[t] = omega + alpha * epsilon[t-1]**2 + beta * sigma2[t-1]\n",
    "    return np.sqrt(sigma2) # Square root of variance (volatility)"
   ]
  },
  {
   "cell_type": "code",
   "execution_count": 13,
   "id": "1b1b5bcc-a94e-4d00-8fa7-61bf627fc05f",
   "metadata": {},
   "outputs": [],
   "source": [
    "# Garch goal function optimization and diagonal matrix with volatilities calculation\n",
    "def garch_for_all_assets_optuna(r, tickers, n_trials=50):\n",
    "    n_assets, n_periods = r.shape\n",
    "    params_dict = {}\n",
    "    d = np.zeros((n_assets, n_periods))\n",
    "    D_t_list = []\n",
    "    for i, ticker in enumerate(tickers):\n",
    "        print(f'GARCH(1,1) optimization for {ticker}:')\n",
    "        study = optuna.create_study(direction='minimize') # Here optuna is the better option for optimization than scipy.optimize or neural networks\n",
    "        study.optimize(lambda trial: garch_objective(trial, r[i, :], ticker), n_trials=n_trials)\n",
    "        best_params = study.best_params\n",
    "        omega = best_params[f'omega_{ticker}']\n",
    "        alpha = best_params[f'alpha_{ticker}']\n",
    "        beta = best_params[f'beta_{ticker}']\n",
    "        params_dict[ticker] = {'omega': omega, 'alpha': alpha, 'beta': beta}\n",
    "        d[i, :] = compute_garch_volatility(r[i, :], omega, alpha, beta) # Volatilities calculation\n",
    "    for t in range(n_periods):\n",
    "        D_t_list.append(np.diag(d[:, t])) # Diagonal matrix with volatilities on the main diagonal\n",
    "    return params_dict, d, D_t_list"
   ]
  },
  {
   "cell_type": "code",
   "execution_count": 14,
   "id": "7414e390-dd32-4ee7-8697-567ee0d3f464",
   "metadata": {},
   "outputs": [],
   "source": [
    "# Composite log-likehood function for DCC-params optimization\n",
    "def composite_dcc_log_likelihood_optuna(params, eps, shrinkage='S'):\n",
    "   # Alpha responsible for the previous residuals influnce, beta responsible for \n",
    "    alpha, beta = params\n",
    "    n_assets, n_periods = eps.shape\n",
    "    # Alpha and beta must not exceed one or be negative\n",
    "    if alpha < 0 or beta < 0 or alpha + beta >= 1:\n",
    "        return np.inf\n",
    "    # Choosing type of covariance matrix shrinkage \n",
    "    if shrinkage == 'S':\n",
    "        C = compute_C_S(eps)\n",
    "    elif shrinkage == 'L1':\n",
    "        C = compute_C_L1(eps)\n",
    "    elif shrinkage == 'L2':\n",
    "        C = compute_C_L2(eps)\n",
    "    elif shrinkage == 'NL':\n",
    "        C = compute_C_NL(eps)\n",
    "    else:\n",
    "        raise ValueError(f'Unknown shrinkage method: {shrinkage}')\n",
    "    # Start matrix and goal function\n",
    "    Q_t = C \n",
    "    log_likelihood = 0\n",
    "    # Pair-cycle for likehood calculation \n",
    "    for t in range(1, n_periods):\n",
    "        s_t1 = eps[:, t-1].reshape(-1, 1)\n",
    "        # Dynamic covariance matrix Q_t depends on previos Q_t, C base covariance matrix (with choosen shrinkage option) and residuals on previos step\n",
    "        Q_t = (1 - alpha - beta) * C + alpha * (s_t1 @ s_t1.T) + beta * Q_t\n",
    "        Q_t_diag = np.sqrt(np.diag(Q_t)) \n",
    "        R_t = Q_t / (Q_t_diag[:, None] * Q_t_diag[None, :]) # R_t is the correlation matrix \n",
    "        for i in range(n_assets):\n",
    "            for j in range(i + 1, n_assets):\n",
    "                r_ij = R_t[i, j]\n",
    "                if abs(r_ij) >= 1: \n",
    "                    return np.inf\n",
    "                eps_i_t = eps[i, t]\n",
    "                eps_j_t = eps[j, t]\n",
    "                log_likelihood -= 0.5 * (\n",
    "                    np.log(1 - r_ij**2) + \n",
    "                    (eps_i_t**2 + eps_j_t**2 - 2 * r_ij * eps_i_t * eps_j_t) / (1 - r_ij**2)\n",
    "                )\n",
    "    return -log_likelihood"
   ]
  },
  {
   "cell_type": "code",
   "execution_count": 15,
   "id": "c988d311-ea61-4d27-8ea6-3cf14d2541cf",
   "metadata": {},
   "outputs": [],
   "source": [
    "# DCC optimization step \n",
    "def estimate_dcc_params_optuna(eps, shrinkage='S', n_trials=50):\n",
    "    def objective(trial):\n",
    "        # Constrains are needed to avoid the algorithm getting stuck in a local minimum\n",
    "        alpha = trial.suggest_float('alpha', 1e-5, 0.2) # Typically alpha is much smaller than beta  \n",
    "        beta = trial.suggest_float('beta', 0.7, 0.99) \n",
    "        params = [alpha, beta]\n",
    "        return composite_dcc_log_likelihood_optuna(params, eps, shrinkage)\n",
    "    \n",
    "    study = optuna.create_study(direction='minimize')\n",
    "    study.optimize(objective, n_trials=n_trials)\n",
    "    best_params = study.best_params\n",
    "    alpha = best_params['alpha']\n",
    "    beta = best_params['beta']\n",
    "    if study.best_value == np.inf:\n",
    "        raise ValueError('DCC optimization failed')\n",
    "    return np.array([alpha, beta])"
   ]
  },
  {
   "cell_type": "code",
   "execution_count": 16,
   "id": "ec5049bc-4cbb-426b-a390-664f3d0988b5",
   "metadata": {},
   "outputs": [],
   "source": [
    "# Out-of-sample garch volatility calculation\n",
    "def compute_garch_volatility_test(returns, omega, alpha, beta, initial_sigma2=None):\n",
    "    n = len(returns)\n",
    "    sigma2 = np.zeros(n)\n",
    "    mu = np.mean(returns) \n",
    "    epsilon = returns - mu \n",
    "    if initial_sigma2 is None:\n",
    "        sigma2[0] = np.var(returns)\n",
    "    else:\n",
    "        sigma2[0] = initial_sigma2\n",
    "    for t in range(1, n):\n",
    "        sigma2[t] = omega + alpha * epsilon[t-1]**2 + beta * sigma2[t-1]\n",
    "    return np.sqrt(sigma2)"
   ]
  },
  {
   "cell_type": "code",
   "execution_count": 17,
   "id": "b145b5dc-8457-4292-9c19-85555b6424bc",
   "metadata": {},
   "outputs": [],
   "source": [
    "# Out-of-sample covariance matrices calculation\n",
    "def compute_Q_t_optuna(eps, alpha, beta, shrinkage='S', initial_Q=None):\n",
    "    n_assets, n_periods = eps.shape\n",
    "    if shrinkage == 'S':\n",
    "        C = compute_C_S(eps)\n",
    "    elif shrinkage == 'L1':\n",
    "        C = compute_C_L1(eps)\n",
    "    elif shrinkage == 'L2':\n",
    "        C = compute_C_L2(eps)\n",
    "    elif shrinkage == 'NL':\n",
    "        C = compute_C_NL(eps)\n",
    "    else:\n",
    "        raise ValueError(f'Unknown shrinkage method: {shrinkage}')\n",
    "    Q_t_list = []\n",
    "    Q_t = initial_Q if initial_Q is not None else C\n",
    "    for t in range(n_periods):\n",
    "        Q_t_list.append(Q_t)\n",
    "        if t < n_periods - 1:\n",
    "            s_t = eps[:, t].reshape(-1, 1)\n",
    "            Q_t = (1 - alpha - beta) * C + alpha * (s_t @ s_t.T) + beta * Q_t\n",
    "    return Q_t_list, C"
   ]
  },
  {
   "cell_type": "code",
   "execution_count": 18,
   "id": "4e7ac2a3-c95e-4ca7-9e6e-07c5b7df0fe0",
   "metadata": {},
   "outputs": [],
   "source": [
    "# Out-of-sample diagonal matrices calculation\n",
    "def garch_for_test_data(r_out, tickers, params_dict, initial_vols=None):\n",
    "    n_assets, n_periods = r_out.shape\n",
    "    d_out = np.zeros((n_assets, n_periods))\n",
    "    D_t_list_out = []\n",
    "    for i, ticker in enumerate(tickers):\n",
    "        omega = params_dict[ticker]['omega']\n",
    "        alpha = params_dict[ticker]['alpha']\n",
    "        beta = params_dict[ticker]['beta']\n",
    "        initial_sigma2 = initial_vols[i] if initial_vols is not None else None\n",
    "        d_out[i, :] = compute_garch_volatility_test(r_out[i, :], omega, alpha, beta, initial_sigma2)\n",
    "    for t in range(n_periods):\n",
    "        D_t_list_out.append(np.diag(d_out[:, t]))\n",
    "    return d_out, D_t_list_out"
   ]
  },
  {
   "cell_type": "code",
   "execution_count": 19,
   "id": "45dc74fa-95da-4882-a88c-96fcdf363a89",
   "metadata": {},
   "outputs": [],
   "source": [
    "# Correlation and accurate covariance matrices calculation \n",
    "def compute_R_t_H_t(Q_t_list, D_t_list):\n",
    "    R_t_list = []\n",
    "    H_t_list = []\n",
    "    for t in range(len(Q_t_list)):\n",
    "        Q_t = Q_t_list[t]\n",
    "        Q_t_diag_sqrt = np.sqrt(np.diag(Q_t))  \n",
    "        Q_t_diag_inv_sqrt = np.diag(1 / Q_t_diag_sqrt)  \n",
    "        # Correlation matrix calculation (with ones on the main diagonal)\n",
    "        R_t = Q_t_diag_inv_sqrt @ Q_t @ Q_t_diag_inv_sqrt\n",
    "        R_t_list.append(R_t)\n",
    "        D_t = D_t_list[t]\n",
    "        # Accurate covariance matrix (wich includes garch-volatility influence)\n",
    "        H_t = D_t @ R_t @ D_t\n",
    "        H_t_list.append(H_t)\n",
    "    return R_t_list, H_t_list"
   ]
  },
  {
   "cell_type": "code",
   "execution_count": 20,
   "id": "05bdc773-5dcb-4c2a-b489-6ca0a3a8d634",
   "metadata": {},
   "outputs": [],
   "source": [
    "# Prepearing test and train fractions of log-returns\n",
    "# Perspective param is only about file data lenghts, frequency is about price changing data frequency\n",
    "def returns_preparation(DOW_JONES, frequency='15MIN', perspective='LONG',\n",
    "                        train_fraction=0.8, start_overall='2010-01-04 14:30:00', \n",
    "                        end_overall='2011-01-04 14:30:00', date_format='%Y-%m-%dT%H:%M:%SZ'):\n",
    "\n",
    "    ticker = 'AMZN'\n",
    "    data = pd.read_csv(f'DOW_JONES_{frequency}_{perspective}/{ticker}.csv', index_col='timestamp')\n",
    "    data.index = pd.to_datetime(data.index, format=date_format)\n",
    "    data[f'log_ret_start'] = np.log(data['close'] / data['close'].shift(1))\n",
    "    columns_to_drop = ['open', 'high', 'low', 'close', 'volume']\n",
    "    data = data.drop(columns_to_drop, axis=1, errors='ignore')\n",
    "    data = data.fillna(0)\n",
    "    for ticker in DOW_JONES:\n",
    "        data_new = pd.read_csv(f'DOW_JONES_15MIN_LONG/{ticker}.csv', index_col='timestamp')\n",
    "        data_new.index = pd.to_datetime(data_new.index, format=date_format)\n",
    "        data_new[f'log_ret_{ticker}'] = np.log(data_new['close'] / data_new['close'].shift(1))\n",
    "        data_new = data_new.drop(columns_to_drop, axis=1, errors='ignore')\n",
    "        data_new = data_new.fillna(0)\n",
    "        data = pd.concat([data, data_new], axis=1)\n",
    "    \n",
    "    data = data.drop(data.columns[0], axis=1, errors='ignore')\n",
    "    data = data.fillna(0)\n",
    "\n",
    "    req_start = pd.to_datetime(start_overall)\n",
    "    req_end = pd.to_datetime(end_overall)\n",
    "    potential_starts = data.index[data.index >= req_start]\n",
    "    if len(potential_starts) == 0:\n",
    "        raise ValueError(f'No data available at or after {req_start}')\n",
    "    actual_start = potential_starts[0]\n",
    "    potential_ends = data.index[data.index <= req_end]\n",
    "    if len(potential_ends) == 0:\n",
    "        raise ValueError(f'No data available at or before {req_end}')\n",
    "    actual_end = potential_ends[-1]\n",
    "    if actual_end < actual_start:\n",
    "        raise ValueError(f'Actual end {actual_end} is before actual start {actual_start}')\n",
    "    data_range = data.loc[actual_start:actual_end]\n",
    "    train_size = int(train_fraction * len(data_range))\n",
    "    X_train = data_range[:train_size]\n",
    "    X_test = data_range[train_size:]\n",
    "    r = X_train.to_numpy().T\n",
    "    r_out = X_test.to_numpy().T\n",
    "    \n",
    "    return r, r_out"
   ]
  },
  {
   "cell_type": "code",
   "execution_count": 21,
   "id": "3d7e8a7a-9e70-4e1f-9d57-1e15b789b5f0",
   "metadata": {},
   "outputs": [],
   "source": [
    "# Combining all previous functions\n",
    "def all_steps_in_one_place(DOW_JONES, frequency='15MIN', perspective='LONG',\n",
    "                        train_fraction=0.8, method='S', start_overall = '2010-01-04 14:30:00', \n",
    "                        end_overall = '2011-01-04 14:30:00', date_format='%Y-%m-%dT%H:%M:%SZ'):\n",
    "    \n",
    "    r, r_out = returns_preparation(DOW_JONES, frequency=frequency, perspective=perspective,\n",
    "                        train_fraction=train_fraction, start_overall=start_overall, \n",
    "                        end_overall=end_overall, date_format=date_format)\n",
    "    params_dict, d, D_t_list = garch_for_all_assets_optuna(r, DOW_JONES, n_trials=50)\n",
    "    eps = r / d\n",
    "    alpha, beta = estimate_dcc_params_optuna(eps, shrinkage=method, n_trials=50)\n",
    "    Q_t_list, C = compute_Q_t_optuna(eps, alpha, beta, shrinkage=method)\n",
    "    initial_vols = [d[i, -1]**2 for i in range(len(DOW_JONES))]\n",
    "    d_out, D_t_list_out = garch_for_test_data(r_out, DOW_JONES, params_dict, initial_vols)\n",
    "    eps_out = r_out / d_out\n",
    "    initial_Q = Q_t_list[-1]\n",
    "    Q_t_list_out, C_out = compute_Q_t_optuna(eps_out, alpha, beta, shrinkage=method, initial_Q=initial_Q)\n",
    "    R_t_list, H_t_list = compute_R_t_H_t(Q_t_list, D_t_list)\n",
    "    R_t_list_out, H_t_list_out = compute_R_t_H_t(Q_t_list_out, D_t_list_out)\n",
    "\n",
    "    return H_t_list, H_t_list_out, R_t_list, R_t_list_out, alpha, beta"
   ]
  },
  {
   "cell_type": "code",
   "execution_count": 22,
   "id": "96479aa0-15ae-48d2-b1ec-3bd0f2da7d61",
   "metadata": {},
   "outputs": [],
   "source": [
    "# Proxy-volatility calculation (based only on covariance matrix, not on real data returns)\n",
    "def proxy_volatility_calculation(H_t_list):\n",
    "    volatilities_list = []\n",
    "    for i in range(len(H_t_list)):\n",
    "        # H_t is a covariance matrix\n",
    "        H_t = H_t_list[i]\n",
    "        # Getting sorted lists of eigenvalues and corresponded eigenvectors of covariance matrix\n",
    "        eigenvalues, eigenvectors = np.linalg.eig(H_t)\n",
    "        # Eigenvectors[-1] is an eigenvector corresponded to the smallest eigenvalue of covariance matrix\n",
    "        # That step is needed to find the weights vector, that explains the smallest part of assets variance (in can be named \"reversed PCA\")\n",
    "        # Corrected vector is the least variance vector normalized to sum of value equal to 1 \n",
    "        corrected_vector = np.array([eigenvectors[-1][i] / sum(eigenvectors[-1]) for i in range(len(eigenvectors[-1]))])\n",
    "        # Proxy volatility (volatility at the moment without using real returns, only with weights vector and covariance matrix)\n",
    "        volatility = float(corrected_vector @ H_t @ corrected_vector.T)\n",
    "        volatilities_list.append(volatility)\n",
    "        \n",
    "    return volatilities_list"
   ]
  },
  {
   "cell_type": "code",
   "execution_count": 26,
   "id": "22b9f590-8554-4d60-ae5a-09d976c7348e",
   "metadata": {},
   "outputs": [],
   "source": [
    "# Different shrinkage types volatility comparison function\n",
    "def volatility_comparison(DOW_JONES, frequency='15MIN', perspective='LONG',\n",
    "                        train_fraction=0.8, method='NL', start_overall='2010-01-04 14:30:00', \n",
    "                        end_overall='2010-01-30 14:30:00', date_format='%Y-%m-%dT%H:%M:%SZ'):\n",
    "    results = {}\n",
    "    volatility_results = {}\n",
    "    for method in ['S', 'L1', 'L2', 'NL']:\n",
    "        method_dict = {}\n",
    "        vol_method_dict = {}\n",
    "        H_t_list, H_t_list_out, R_t_list, R_t_list_out, alpha, beta = all_steps_in_one_place(DOW_JONES, frequency=frequency, \n",
    "                            perspective=perspective, train_fraction=train_fraction, method=method, start_overall=start_overall, \n",
    "                            end_overall=end_overall, date_format=date_format)\n",
    "        volatilities_list = proxy_volatility_calculation(H_t_list)\n",
    "        volatilities_list_out = proxy_volatility_calculation(H_t_list_out)\n",
    "        method_dict['In sample volatility'] = round(np.mean(volatilities_list) * 10000, 3)\n",
    "        method_dict['Out of sample volatility'] = round(np.mean(volatilities_list_out) * 10000, 3)\n",
    "        vol_method_dict['volatilities in-sample list'] = volatilities_list\n",
    "        vol_method_dict['volatilities out-of-sample list'] = volatilities_list_out\n",
    "        results[method] = method_dict\n",
    "        volatility_results[method] = vol_method_dict\n",
    "    \n",
    "    return results, volatility_results"
   ]
  },
  {
   "cell_type": "code",
   "execution_count": null,
   "id": "ab75a90c-a257-45a1-af71-f549f2c1bf3b",
   "metadata": {
    "scrolled": true
   },
   "outputs": [],
   "source": [
    "# Example of possible params\n",
    "results, volatility_results = volatility_comparison(DOW_JONES, frequency='15MIN', perspective='LONG',\n",
    "                        train_fraction=0.8, method='NL', start_overall='2012-01-01 14:30:00', \n",
    "                        end_overall='2012-01-30 14:30:00', date_format='%Y-%m-%dT%H:%M:%SZ')"
   ]
  },
  {
   "cell_type": "code",
   "execution_count": 28,
   "id": "8172cc4c-d341-4d29-b710-6968fc8ea08e",
   "metadata": {},
   "outputs": [
    {
     "name": "stdout",
     "output_type": "stream",
     "text": [
      "S shrinkage: average in sample volatility=19.349, average out of sample volatility=49.701\n",
      "L1 shrinkage: average in sample volatility=49.344, average out of sample volatility=11.212\n",
      "L2 shrinkage: average in sample volatility=21.336, average out of sample volatility=15.135\n",
      "NL shrinkage: average in sample volatility=3.116, average out of sample volatility=15.154\n"
     ]
    }
   ],
   "source": [
    "# You can choose another timeframe to test different types of shrinkage\n",
    "for k, v in results.items():\n",
    "    print(f'{k} shrinkage: average in sample volatility={v['In sample volatility']}, average out of sample volatility={v['Out of sample volatility']}')"
   ]
  },
  {
   "cell_type": "code",
   "execution_count": 106,
   "id": "00f6c72e-59ef-4ed1-9d1f-9f040b8ac793",
   "metadata": {},
   "outputs": [],
   "source": [
    "# Non-base shrinkage can get much better results, but sometimes that can lead to much worse results\n",
    "# But it can be useful for volatility reducing and firsly it works like regularization of covariance matrix"
   ]
  },
  {
   "cell_type": "code",
   "execution_count": 36,
   "id": "6af93a7d-1e79-4e70-8217-f79e206b216c",
   "metadata": {},
   "outputs": [
    {
     "data": {
      "image/png": "[encoded data removed]",
      "text/plain": [
       "<Figure size 640x480 with 1 Axes>"
      ]
     },
     "metadata": {},
     "output_type": "display_data"
    }
   ],
   "source": [
    "# You can choose different start and end params for more/less detailed picture\n",
    "# Non-linear shrinkage has the least number of volatilities explosion\n",
    "# So that way of matrix regularization shows its own power\n",
    "start = 0\n",
    "end = 150\n",
    "plt.plot(volatility_results['S']['volatilities in-sample list'][start:end], color='red', label='S')\n",
    "plt.plot(volatility_results['L1']['volatilities in-sample list'][start:end], color='blue', label='L1')\n",
    "plt.plot(volatility_results['L2']['volatilities in-sample list'][start:end], color='green', label='L2')\n",
    "plt.plot(volatility_results['NL']['volatilities in-sample list'][start:end], color='black', label='NL')\n",
    "plt.xlabel('number of predicted matrix')\n",
    "plt.ylabel('proxy-volatility')\n",
    "plt.legend()\n",
    "plt.show()"
   ]
  },
  {
   "cell_type": "code",
   "execution_count": 40,
   "id": "0b9967ce-9dff-4131-8578-64d58344e97f",
   "metadata": {},
   "outputs": [
    {
     "data": {
      "image/png": "[encoded data removed]",
      "text/plain": [
       "<Figure size 640x480 with 1 Axes>"
      ]
     },
     "metadata": {},
     "output_type": "display_data"
    }
   ],
   "source": [
    "# Out-of-sample picture\n",
    "start = 0\n",
    "end = 50\n",
    "plt.plot(volatility_results['S']['volatilities out-of-sample list'][start:end], color='red', label='S')\n",
    "plt.plot(volatility_results['L1']['volatilities out-of-sample list'][start:end], color='blue', label='L1')\n",
    "plt.plot(volatility_results['L2']['volatilities out-of-sample list'][start:end], color='green', label='L2')\n",
    "plt.plot(volatility_results['NL']['volatilities out-of-sample list'][start:end], color='black', label='NL')\n",
    "plt.xlabel('number of predicted matrix')\n",
    "plt.ylabel('proxy-volatility')\n",
    "plt.legend()\n",
    "plt.show()"
   ]
  }
 ],
 "metadata": {
  "kernelspec": {
   "display_name": "Python 3 (ipykernel)",
   "language": "python",
   "name": "python3"
  },
  "language_info": {
   "codemirror_mode": {
    "name": "ipython",
    "version": 3
   },
   "file_extension": ".py",
   "mimetype": "text/x-python",
   "name": "python",
   "nbconvert_exporter": "python",
   "pygments_lexer": "ipython3",
   "version": "3.13.5"
  }
 },
 "nbformat": 4,
 "nbformat_minor": 5
}
